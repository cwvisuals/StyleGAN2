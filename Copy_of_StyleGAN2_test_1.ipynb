{
  "nbformat": 4,
  "nbformat_minor": 0,
  "metadata": {
    "colab": {
      "name": "Copy of StyleGAN2 test 1.ipynb",
      "provenance": [],
      "collapsed_sections": [],
      "authorship_tag": "ABX9TyMUNSeaGiA+wWbQXeLrt+xM",
      "include_colab_link": true
    },
    "kernelspec": {
      "name": "python3",
      "display_name": "Python 3"
    },
    "accelerator": "GPU"
  },
  "cells": [
    {
      "cell_type": "markdown",
      "metadata": {
        "id": "view-in-github",
        "colab_type": "text"
      },
      "source": [
        "<a href=\"https://colab.research.google.com/github/cwvisuals/StyleGAN2/blob/test/Copy_of_StyleGAN2_test_1.ipynb\" target=\"_parent\"><img src=\"https://colab.research.google.com/assets/colab-badge.svg\" alt=\"Open In Colab\"/></a>"
      ]
    },
    {
      "cell_type": "markdown",
      "metadata": {
        "id": "SNrt0XOFSXAX",
        "colab_type": "text"
      },
      "source": [
        "StyleGAN2 test\n",
        "\n",
        "https://github.com/lucidrains/stylegan2-pytorch\n",
        "\n",
        "https://github.com/cwvisuals/StyleGAN2"
      ]
    },
    {
      "cell_type": "code",
      "metadata": {
        "id": "SqSKVC8uKQKE",
        "colab_type": "code",
        "colab": {
          "base_uri": "https://localhost:8080/",
          "height": 357
        },
        "outputId": "5c36b594-3faa-48ea-bcdc-ee3ac697ab0f"
      },
      "source": [
        "!nvidia-smi"
      ],
      "execution_count": 2,
      "outputs": [
        {
          "output_type": "stream",
          "text": [
            "Mon Aug 24 02:49:36 2020       \n",
            "+-----------------------------------------------------------------------------+\n",
            "| NVIDIA-SMI 450.57       Driver Version: 418.67       CUDA Version: 10.1     |\n",
            "|-------------------------------+----------------------+----------------------+\n",
            "| GPU  Name        Persistence-M| Bus-Id        Disp.A | Volatile Uncorr. ECC |\n",
            "| Fan  Temp  Perf  Pwr:Usage/Cap|         Memory-Usage | GPU-Util  Compute M. |\n",
            "|                               |                      |               MIG M. |\n",
            "|===============================+======================+======================|\n",
            "|   0  Tesla T4            Off  | 00000000:00:04.0 Off |                    0 |\n",
            "| N/A   67C    P8    11W /  70W |      0MiB / 15079MiB |      0%      Default |\n",
            "|                               |                      |                 ERR! |\n",
            "+-------------------------------+----------------------+----------------------+\n",
            "                                                                               \n",
            "+-----------------------------------------------------------------------------+\n",
            "| Processes:                                                                  |\n",
            "|  GPU   GI   CI        PID   Type   Process name                  GPU Memory |\n",
            "|        ID   ID                                                   Usage      |\n",
            "|=============================================================================|\n",
            "|  No running processes found                                                 |\n",
            "+-----------------------------------------------------------------------------+\n"
          ],
          "name": "stdout"
        }
      ]
    },
    {
      "cell_type": "code",
      "metadata": {
        "id": "p4OCeb8FKXn1",
        "colab_type": "code",
        "colab": {
          "base_uri": "https://localhost:8080/",
          "height": 122
        },
        "outputId": "d6390f19-e364-471a-acc7-831f3c1422b3"
      },
      "source": [
        "from google.colab import drive\n",
        "drive.mount('/content/drive')"
      ],
      "execution_count": 3,
      "outputs": [
        {
          "output_type": "stream",
          "text": [
            "Go to this URL in a browser: https://accounts.google.com/o/oauth2/auth?client_id=947318989803-6bn6qk8qdgf4n4g3pfee6491hc0brc4i.apps.googleusercontent.com&redirect_uri=urn%3aietf%3awg%3aoauth%3a2.0%3aoob&scope=email%20https%3a%2f%2fwww.googleapis.com%2fauth%2fdocs.test%20https%3a%2f%2fwww.googleapis.com%2fauth%2fdrive%20https%3a%2f%2fwww.googleapis.com%2fauth%2fdrive.photos.readonly%20https%3a%2f%2fwww.googleapis.com%2fauth%2fpeopleapi.readonly&response_type=code\n",
            "\n",
            "Enter your authorization code:\n",
            "··········\n",
            "Mounted at /content/drive\n"
          ],
          "name": "stdout"
        }
      ]
    },
    {
      "cell_type": "code",
      "metadata": {
        "id": "6JLABjskNiKz",
        "colab_type": "code",
        "colab": {
          "base_uri": "https://localhost:8080/",
          "height": 119
        },
        "outputId": "4d95e9b8-385c-40cc-c7bf-5667b4472a1e"
      },
      "source": [
        "# !git clone https://github.com/lucidrains/stylegan2-pytorch\n",
        "!git clone https://github.com/cwvisuals/StyleGAN2"
      ],
      "execution_count": 4,
      "outputs": [
        {
          "output_type": "stream",
          "text": [
            "Cloning into 'StyleGAN2'...\n",
            "remote: Enumerating objects: 79, done.\u001b[K\n",
            "remote: Counting objects: 100% (79/79), done.\u001b[K\n",
            "remote: Compressing objects: 100% (70/70), done.\u001b[K\n",
            "remote: Total 79 (delta 31), reused 0 (delta 0), pack-reused 0\u001b[K\n",
            "Unpacking objects: 100% (79/79), done.\n"
          ],
          "name": "stdout"
        }
      ]
    },
    {
      "cell_type": "code",
      "metadata": {
        "id": "Yhu9NWlTKbv7",
        "colab_type": "code",
        "colab": {}
      },
      "source": [
        "!pip install torch==1.6.0\n",
        "!pip install torchvision\n",
        "!pip install stylegan2_pytorch\n",
        "# !pip install stylegan2-pytorch==0.20.1"
      ],
      "execution_count": null,
      "outputs": []
    },
    {
      "cell_type": "code",
      "metadata": {
        "id": "JnTRLmvHSocV",
        "colab_type": "code",
        "colab": {}
      },
      "source": [
        "%cd /content/StyleGAN2"
      ],
      "execution_count": null,
      "outputs": []
    },
    {
      "cell_type": "code",
      "metadata": {
        "id": "RO8PtM_kxC_v",
        "colab_type": "code",
        "colab": {}
      },
      "source": [
        "!git pull"
      ],
      "execution_count": null,
      "outputs": []
    },
    {
      "cell_type": "code",
      "metadata": {
        "id": "RAFRm-OzNZNd",
        "colab_type": "code",
        "colab": {}
      },
      "source": [
        "!pwd\n",
        "%ls"
      ],
      "execution_count": null,
      "outputs": []
    },
    {
      "cell_type": "code",
      "metadata": {
        "id": "m5rX9FzTLCD_",
        "colab_type": "code",
        "colab": {}
      },
      "source": [
        "%cd /content/StyleGAN2/stylegan2_pytorch"
      ],
      "execution_count": null,
      "outputs": []
    },
    {
      "cell_type": "code",
      "metadata": {
        "id": "EFDB1xwlNtKa",
        "colab_type": "code",
        "colab": {}
      },
      "source": [
        "!pwd\n",
        "%ls"
      ],
      "execution_count": null,
      "outputs": []
    },
    {
      "cell_type": "code",
      "metadata": {
        "id": "Be8pe-lt98ko",
        "colab_type": "code",
        "colab": {}
      },
      "source": [
        "# run the first time and each new dataset\n",
        "\n",
        "!mkdir Drive\n",
        "%cd /content/StyleGAN2/stylegan2_pytorch/Drive\n",
        "!mkdir dataset\n",
        "%cd /content/StyleGAN2/stylegan2_pytorch/Drive/dataset\n",
        "!mkdir ga\n",
        "%cd /content/StyleGAN2/stylegan2_pytorch/Drive/dataset/ga\n",
        "!mkdir default\n",
        "%ls"
      ],
      "execution_count": null,
      "outputs": []
    },
    {
      "cell_type": "markdown",
      "metadata": {
        "id": "9YuN1d5lTGDu",
        "colab_type": "text"
      },
      "source": [
        "Dataset images have to go in default folder!!!\n",
        "\n",
        "500 images in waves dataset\n",
        "\n",
        "256 x 256"
      ]
    },
    {
      "cell_type": "markdown",
      "metadata": {
        "id": "1GQpbf2bzYqF",
        "colab_type": "text"
      },
      "source": [
        "To continue training drop .pt model file into /content/StyleGAN2/stylegan2_pytorch/models/sg2_ga\n",
        "\n",
        "Edit /content/StyleGAN2/bin/stylegan2_pytorch to change output file size and number of runs etc\n",
        "\n",
        "Have to change path to StyleGAN2 if I use my GitHub!!!"
      ]
    },
    {
      "cell_type": "markdown",
      "metadata": {
        "id": "nCcDAt8uzUFh",
        "colab_type": "text"
      },
      "source": [
        "Only run the next 2 cells if you are continuing training"
      ]
    },
    {
      "cell_type": "code",
      "metadata": {
        "id": "pV8kmmKHzZvi",
        "colab_type": "code",
        "colab": {}
      },
      "source": [
        "!mkdir models\n",
        "!mkdir Drive"
      ],
      "execution_count": null,
      "outputs": []
    },
    {
      "cell_type": "code",
      "metadata": {
        "id": "UJ2MzftY0HMX",
        "colab_type": "code",
        "colab": {}
      },
      "source": [
        "# upload images in default folder \n",
        "\n",
        "%cd /content/StyleGAN2/stylegan2_pytorch/Drive\n",
        "!mkdir dataset\n",
        "%cd /content/StyleGAN2/stylegan2_pytorch/Drive/dataset\n",
        "!mkdir ga\n",
        "%cd /content/StyleGAN2/stylegan2_pytorch/Drive/dataset/ga\n",
        "!mkdir default\n",
        "%ls"
      ],
      "execution_count": null,
      "outputs": []
    },
    {
      "cell_type": "code",
      "metadata": {
        "id": "0sp9KFUYNFei",
        "colab_type": "code",
        "colab": {}
      },
      "source": [
        "!pwd\n",
        "%cd /content/StyleGAN2/stylegan2_pytorch"
      ],
      "execution_count": null,
      "outputs": []
    },
    {
      "cell_type": "markdown",
      "metadata": {
        "id": "7ydE40OD9pw8",
        "colab_type": "text"
      },
      "source": [
        "Only run below if you are continuing training"
      ]
    },
    {
      "cell_type": "code",
      "metadata": {
        "id": "XsvCky602PMw",
        "colab_type": "code",
        "colab": {}
      },
      "source": [
        "# upload model checkpoint file number.pt in /models/your_model_name folder \n",
        "\n",
        "%cd /content/StyleGAN2/stylegan2_pytorch/models\n",
        "%mkdir sg2_ga\n",
        "%ls"
      ],
      "execution_count": null,
      "outputs": []
    },
    {
      "cell_type": "code",
      "metadata": {
        "id": "B16gGJKZ7JN7",
        "colab_type": "code",
        "colab": {}
      },
      "source": [
        "# run to move back up so we can run the training step next\n",
        "%cd /content/StyleGAN2/stylegan2_pytorch"
      ],
      "execution_count": null,
      "outputs": []
    },
    {
      "cell_type": "code",
      "metadata": {
        "id": "1Us-WD4_iBHJ",
        "colab_type": "code",
        "colab": {}
      },
      "source": [
        "!pwd\n",
        "%ls"
      ],
      "execution_count": null,
      "outputs": []
    },
    {
      "cell_type": "markdown",
      "metadata": {
        "id": "Pg8lMMgDZQ-7",
        "colab_type": "text"
      },
      "source": [
        "Run below to train model - will take 30ish hours i think\n",
        "\n",
        "Sample images will be saved to results/default and models will be saved periodically to models/default"
      ]
    },
    {
      "cell_type": "code",
      "metadata": {
        "id": "N-zljnsaNufj",
        "colab_type": "code",
        "colab": {}
      },
      "source": [
        "# name the project - use to continue training test\n",
        "!stylegan2_pytorch --data /content/StyleGAN2/stylegan2_pytorch/Drive/dataset/ga/default --name sg2_ga"
      ],
      "execution_count": null,
      "outputs": []
    },
    {
      "cell_type": "code",
      "metadata": {
        "id": "j1kts3TiN-zL",
        "colab_type": "code",
        "colab": {}
      },
      "source": [
        "# specify the name of your project with and set parameters\n",
        "# --aug-prob between 0.1 -> 0.7 max\n",
        "!stylegan2_pytorch --data /content/StyleGAN2/stylegan2_pytorch/Drive/dataset/ga/default --name sg2_ga2 --batch-size 3 --gradient-accumulate-every 6 --network-capacity 16"
      ],
      "execution_count": null,
      "outputs": []
    },
    {
      "cell_type": "markdown",
      "metadata": {
        "id": "MR-yA7auVV6j",
        "colab_type": "text"
      },
      "source": [
        "To check output open /content/stylegan2-pytorch/stylegan2_pytorch/results/default"
      ]
    },
    {
      "cell_type": "code",
      "metadata": {
        "id": "lTnfGAN2UBhN",
        "colab_type": "code",
        "colab": {}
      },
      "source": [
        "# generate images from your latest checkpoint\n",
        "!stylegan2_pytorch --generate"
      ],
      "execution_count": null,
      "outputs": []
    },
    {
      "cell_type": "code",
      "metadata": {
        "id": "MppzHSgvU2mW",
        "colab_type": "code",
        "colab": {}
      },
      "source": [
        "# generate a video of a interpolation through two random points in latent space\n",
        "!stylegan2_pytorch --generate-interpolation"
      ],
      "execution_count": null,
      "outputs": []
    },
    {
      "cell_type": "code",
      "metadata": {
        "id": "N93gzGjMU-iW",
        "colab_type": "code",
        "colab": {}
      },
      "source": [
        "# to save each individual frame of the interpolation\n",
        "!stylegan2_pytorch --generate-interpolation --save-frames"
      ],
      "execution_count": null,
      "outputs": []
    },
    {
      "cell_type": "markdown",
      "metadata": {
        "id": "nh_ORXfCep1Z",
        "colab_type": "text"
      },
      "source": [
        "Use below to retrain and see if it makes a difference"
      ]
    },
    {
      "cell_type": "markdown",
      "metadata": {
        "id": "qZ-JQjyXeY-7",
        "colab_type": "text"
      },
      "source": [
        "Memory considerations -- \n",
        "The more GPU memory you have, the bigger and better the image generation will be. Nvidia recommended having up to 16GB for training 1024x1024 images. If you have less than that, there are a couple settings you can play with so that the model fits.\n",
        "\n",
        "Batch size - You can decrease the batch-size down to 1, but you should increase the gradient-accumulate-every correspondingly so that the mini-batch the network sees is not too small. This may be confusing to a layperson, so I'll think about how I would automate the choice of gradient-accumulate-every going forward.\n",
        "\n",
        "Network capacity - You can decrease the neural network capacity to lessen the memory requirements. Just be aware that this has been shown to degrade generation performance."
      ]
    },
    {
      "cell_type": "code",
      "metadata": {
        "id": "5MTeed6Vei7o",
        "colab_type": "code",
        "colab": {}
      },
      "source": [
        "!stylegan2_pytorch --data /path/to/data \\\n",
        "    --batch-size 3 \\\n",
        "    --gradient-accumulate-every 5 \\\n",
        "    --network-capacity 16"
      ],
      "execution_count": null,
      "outputs": []
    }
  ]
}